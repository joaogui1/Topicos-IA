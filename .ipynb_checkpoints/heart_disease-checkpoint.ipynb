{
 "cells": [
  {
   "cell_type": "markdown",
   "metadata": {},
   "source": [
    "## Carregando os dados"
   ]
  },
  {
   "cell_type": "code",
   "execution_count": 1,
   "metadata": {},
   "outputs": [],
   "source": [
    "import pandas as pd"
   ]
  },
  {
   "cell_type": "code",
   "execution_count": 2,
   "metadata": {},
   "outputs": [
    {
     "data": {
      "text/html": [
       "<div>\n",
       "<style scoped>\n",
       "    .dataframe tbody tr th:only-of-type {\n",
       "        vertical-align: middle;\n",
       "    }\n",
       "\n",
       "    .dataframe tbody tr th {\n",
       "        vertical-align: top;\n",
       "    }\n",
       "\n",
       "    .dataframe thead th {\n",
       "        text-align: right;\n",
       "    }\n",
       "</style>\n",
       "<table border=\"1\" class=\"dataframe\">\n",
       "  <thead>\n",
       "    <tr style=\"text-align: right;\">\n",
       "      <th></th>\n",
       "      <th>0</th>\n",
       "      <th>1</th>\n",
       "      <th>2</th>\n",
       "      <th>3</th>\n",
       "      <th>4</th>\n",
       "      <th>5</th>\n",
       "      <th>6</th>\n",
       "      <th>7</th>\n",
       "      <th>8</th>\n",
       "      <th>9</th>\n",
       "      <th>...</th>\n",
       "      <th>65</th>\n",
       "      <th>66</th>\n",
       "      <th>67</th>\n",
       "      <th>68</th>\n",
       "      <th>69</th>\n",
       "      <th>70</th>\n",
       "      <th>71</th>\n",
       "      <th>72</th>\n",
       "      <th>73</th>\n",
       "      <th>74</th>\n",
       "    </tr>\n",
       "  </thead>\n",
       "  <tbody>\n",
       "    <tr>\n",
       "      <th>1</th>\n",
       "      <td>0</td>\n",
       "      <td>63</td>\n",
       "      <td>1</td>\n",
       "      <td>-9</td>\n",
       "      <td>-9</td>\n",
       "      <td>-9</td>\n",
       "      <td>-9</td>\n",
       "      <td>1</td>\n",
       "      <td>145</td>\n",
       "      <td>1</td>\n",
       "      <td>...</td>\n",
       "      <td>1</td>\n",
       "      <td>1</td>\n",
       "      <td>1</td>\n",
       "      <td>1</td>\n",
       "      <td>1</td>\n",
       "      <td>1</td>\n",
       "      <td>1</td>\n",
       "      <td>-9</td>\n",
       "      <td>-9</td>\n",
       "      <td>name</td>\n",
       "    </tr>\n",
       "    <tr>\n",
       "      <th>2</th>\n",
       "      <td>0</td>\n",
       "      <td>67</td>\n",
       "      <td>1</td>\n",
       "      <td>-9</td>\n",
       "      <td>-9</td>\n",
       "      <td>-9</td>\n",
       "      <td>-9</td>\n",
       "      <td>4</td>\n",
       "      <td>160</td>\n",
       "      <td>1</td>\n",
       "      <td>...</td>\n",
       "      <td>1</td>\n",
       "      <td>1</td>\n",
       "      <td>1</td>\n",
       "      <td>1</td>\n",
       "      <td>1</td>\n",
       "      <td>1</td>\n",
       "      <td>1</td>\n",
       "      <td>-9</td>\n",
       "      <td>-9</td>\n",
       "      <td>name</td>\n",
       "    </tr>\n",
       "    <tr>\n",
       "      <th>3</th>\n",
       "      <td>0</td>\n",
       "      <td>67</td>\n",
       "      <td>1</td>\n",
       "      <td>-9</td>\n",
       "      <td>-9</td>\n",
       "      <td>-9</td>\n",
       "      <td>-9</td>\n",
       "      <td>4</td>\n",
       "      <td>120</td>\n",
       "      <td>1</td>\n",
       "      <td>...</td>\n",
       "      <td>2</td>\n",
       "      <td>2</td>\n",
       "      <td>1</td>\n",
       "      <td>1</td>\n",
       "      <td>1</td>\n",
       "      <td>7</td>\n",
       "      <td>3</td>\n",
       "      <td>-9</td>\n",
       "      <td>-9</td>\n",
       "      <td>name</td>\n",
       "    </tr>\n",
       "    <tr>\n",
       "      <th>4</th>\n",
       "      <td>0</td>\n",
       "      <td>37</td>\n",
       "      <td>1</td>\n",
       "      <td>-9</td>\n",
       "      <td>-9</td>\n",
       "      <td>-9</td>\n",
       "      <td>-9</td>\n",
       "      <td>3</td>\n",
       "      <td>130</td>\n",
       "      <td>0</td>\n",
       "      <td>...</td>\n",
       "      <td>1</td>\n",
       "      <td>1</td>\n",
       "      <td>1</td>\n",
       "      <td>1</td>\n",
       "      <td>1</td>\n",
       "      <td>1</td>\n",
       "      <td>1</td>\n",
       "      <td>-9</td>\n",
       "      <td>-9</td>\n",
       "      <td>name</td>\n",
       "    </tr>\n",
       "    <tr>\n",
       "      <th>6</th>\n",
       "      <td>0</td>\n",
       "      <td>41</td>\n",
       "      <td>0</td>\n",
       "      <td>-9</td>\n",
       "      <td>-9</td>\n",
       "      <td>-9</td>\n",
       "      <td>-9</td>\n",
       "      <td>2</td>\n",
       "      <td>130</td>\n",
       "      <td>1</td>\n",
       "      <td>...</td>\n",
       "      <td>1</td>\n",
       "      <td>1</td>\n",
       "      <td>1</td>\n",
       "      <td>1</td>\n",
       "      <td>1</td>\n",
       "      <td>1</td>\n",
       "      <td>1</td>\n",
       "      <td>-9</td>\n",
       "      <td>-9</td>\n",
       "      <td>name</td>\n",
       "    </tr>\n",
       "  </tbody>\n",
       "</table>\n",
       "<p>5 rows × 75 columns</p>\n",
       "</div>"
      ],
      "text/plain": [
       "   0   1  2  3  4  5  6  7    8  9  ...  65  66  67  68  69  70  71  72  73  \\\n",
       "1  0  63  1 -9 -9 -9 -9  1  145  1  ...   1   1   1   1   1   1   1  -9  -9   \n",
       "2  0  67  1 -9 -9 -9 -9  4  160  1  ...   1   1   1   1   1   1   1  -9  -9   \n",
       "3  0  67  1 -9 -9 -9 -9  4  120  1  ...   2   2   1   1   1   7   3  -9  -9   \n",
       "4  0  37  1 -9 -9 -9 -9  3  130  0  ...   1   1   1   1   1   1   1  -9  -9   \n",
       "6  0  41  0 -9 -9 -9 -9  2  130  1  ...   1   1   1   1   1   1   1  -9  -9   \n",
       "\n",
       "     74  \n",
       "1  name  \n",
       "2  name  \n",
       "3  name  \n",
       "4  name  \n",
       "6  name  \n",
       "\n",
       "[5 rows x 75 columns]"
      ]
     },
     "execution_count": 2,
     "metadata": {},
     "output_type": "execute_result"
    }
   ],
   "source": [
    "data = pd.read_csv(\"cleveland.csv\", sep = ' ')\n",
    "normaly_used = ['1', '2', '7', '8', '10', '14', '17', '30', '36', '38', '39', '42', '49']\n",
    "results = pd.DataFrame(index=['SVM', 'KNN', 'Naive Bayes', 'Decision Tree'])\n",
    "data.head()"
   ]
  },
  {
   "cell_type": "code",
   "execution_count": 3,
   "metadata": {},
   "outputs": [],
   "source": [
    "y = data['56']\n",
    "X = data.drop([str(i) for i in range(56, 75)], axis=1)\n",
    "X_normaly_used = data[normaly_used]"
   ]
  },
  {
   "cell_type": "code",
   "execution_count": 4,
   "metadata": {},
   "outputs": [
    {
     "data": {
      "text/html": [
       "<div>\n",
       "<style scoped>\n",
       "    .dataframe tbody tr th:only-of-type {\n",
       "        vertical-align: middle;\n",
       "    }\n",
       "\n",
       "    .dataframe tbody tr th {\n",
       "        vertical-align: top;\n",
       "    }\n",
       "\n",
       "    .dataframe thead th {\n",
       "        text-align: right;\n",
       "    }\n",
       "</style>\n",
       "<table border=\"1\" class=\"dataframe\">\n",
       "  <thead>\n",
       "    <tr style=\"text-align: right;\">\n",
       "      <th></th>\n",
       "      <th>1</th>\n",
       "      <th>2</th>\n",
       "      <th>7</th>\n",
       "      <th>8</th>\n",
       "      <th>10</th>\n",
       "      <th>14</th>\n",
       "      <th>17</th>\n",
       "      <th>30</th>\n",
       "      <th>36</th>\n",
       "      <th>38</th>\n",
       "      <th>39</th>\n",
       "      <th>42</th>\n",
       "      <th>49</th>\n",
       "    </tr>\n",
       "  </thead>\n",
       "  <tbody>\n",
       "    <tr>\n",
       "      <th>1</th>\n",
       "      <td>63</td>\n",
       "      <td>1</td>\n",
       "      <td>1</td>\n",
       "      <td>145</td>\n",
       "      <td>233</td>\n",
       "      <td>1</td>\n",
       "      <td>2</td>\n",
       "      <td>150</td>\n",
       "      <td>0</td>\n",
       "      <td>2.3</td>\n",
       "      <td>3</td>\n",
       "      <td>0</td>\n",
       "      <td>6</td>\n",
       "    </tr>\n",
       "    <tr>\n",
       "      <th>2</th>\n",
       "      <td>67</td>\n",
       "      <td>1</td>\n",
       "      <td>4</td>\n",
       "      <td>160</td>\n",
       "      <td>286</td>\n",
       "      <td>0</td>\n",
       "      <td>2</td>\n",
       "      <td>108</td>\n",
       "      <td>1</td>\n",
       "      <td>1.5</td>\n",
       "      <td>2</td>\n",
       "      <td>3</td>\n",
       "      <td>3</td>\n",
       "    </tr>\n",
       "    <tr>\n",
       "      <th>3</th>\n",
       "      <td>67</td>\n",
       "      <td>1</td>\n",
       "      <td>4</td>\n",
       "      <td>120</td>\n",
       "      <td>229</td>\n",
       "      <td>0</td>\n",
       "      <td>2</td>\n",
       "      <td>129</td>\n",
       "      <td>1</td>\n",
       "      <td>2.6</td>\n",
       "      <td>2</td>\n",
       "      <td>2</td>\n",
       "      <td>7</td>\n",
       "    </tr>\n",
       "    <tr>\n",
       "      <th>4</th>\n",
       "      <td>37</td>\n",
       "      <td>1</td>\n",
       "      <td>3</td>\n",
       "      <td>130</td>\n",
       "      <td>250</td>\n",
       "      <td>0</td>\n",
       "      <td>0</td>\n",
       "      <td>187</td>\n",
       "      <td>0</td>\n",
       "      <td>3.5</td>\n",
       "      <td>3</td>\n",
       "      <td>0</td>\n",
       "      <td>3</td>\n",
       "    </tr>\n",
       "    <tr>\n",
       "      <th>6</th>\n",
       "      <td>41</td>\n",
       "      <td>0</td>\n",
       "      <td>2</td>\n",
       "      <td>130</td>\n",
       "      <td>204</td>\n",
       "      <td>0</td>\n",
       "      <td>2</td>\n",
       "      <td>172</td>\n",
       "      <td>0</td>\n",
       "      <td>1.4</td>\n",
       "      <td>1</td>\n",
       "      <td>0</td>\n",
       "      <td>3</td>\n",
       "    </tr>\n",
       "  </tbody>\n",
       "</table>\n",
       "</div>"
      ],
      "text/plain": [
       "    1  2  7    8   10  14  17   30  36   38  39  42  49\n",
       "1  63  1  1  145  233   1   2  150   0  2.3   3   0   6\n",
       "2  67  1  4  160  286   0   2  108   1  1.5   2   3   3\n",
       "3  67  1  4  120  229   0   2  129   1  2.6   2   2   7\n",
       "4  37  1  3  130  250   0   0  187   0  3.5   3   0   3\n",
       "6  41  0  2  130  204   0   2  172   0  1.4   1   0   3"
      ]
     },
     "execution_count": 4,
     "metadata": {},
     "output_type": "execute_result"
    }
   ],
   "source": [
    "X_normaly_used.head()"
   ]
  },
  {
   "cell_type": "markdown",
   "metadata": {},
   "source": [
    "## Testes dos Modelos"
   ]
  },
  {
   "cell_type": "code",
   "execution_count": 5,
   "metadata": {},
   "outputs": [],
   "source": [
    "from sklearn.linear_model import LogisticRegression\n",
    "from sklearn.svm import SVC\n",
    "from sklearn.neighbors import KNeighborsClassifier\n",
    "from sklearn.naive_bayes import GaussianNB\n",
    "from sklearn.tree import DecisionTreeClassifier\n",
    "from sklearn.model_selection import cross_val_score\n",
    "import numpy as np"
   ]
  },
  {
   "cell_type": "code",
   "execution_count": 6,
   "metadata": {},
   "outputs": [],
   "source": [
    "classifiers = { 'SVM':SVC(gamma='auto'), \n",
    "                'KNN': KNeighborsClassifier(n_neighbors=3),\n",
    "                'Naive Bayes':GaussianNB(),\n",
    "                'Decision Tree': DecisionTreeClassifier(random_state=0)}"
   ]
  },
  {
   "cell_type": "code",
   "execution_count": 7,
   "metadata": {},
   "outputs": [],
   "source": [
    "def test_classifiers(X, y, classifiers, case):\n",
    "  global results\n",
    "  results[case] = pd.Series([])\n",
    "  for name, clf in classifiers.items():\n",
    "      cv = cross_val_score(clf, X, y, cv=10)\n",
    "      media = np.mean(cv)\n",
    "      std = np.std(cv)\n",
    "      print(f'{name} conseguiu acurácia de {media} e desvio padrão de {std}')\n",
    "      results[case][name] = media"
   ]
  },
  {
   "cell_type": "code",
   "execution_count": 8,
   "metadata": {},
   "outputs": [
    {
     "name": "stdout",
     "output_type": "stream",
     "text": [
      "SVM conseguiu acurácia de 0.5573271889400921 e desvio padrão de 0.018101530918279953\n",
      "KNN conseguiu acurácia de 0.5102867383512544 e desvio padrão de 0.058028428729359614\n",
      "Naive Bayes conseguiu acurácia de 0.41029868578255674 e desvio padrão de 0.12853754148868085\n",
      "Decision Tree conseguiu acurácia de 0.4469320703191671 e desvio padrão de 0.08262279627767138\n"
     ]
    }
   ],
   "source": [
    "test_classifiers(X, y, classifiers, 'all_variables')"
   ]
  },
  {
   "cell_type": "code",
   "execution_count": 9,
   "metadata": {},
   "outputs": [
    {
     "name": "stdout",
     "output_type": "stream",
     "text": [
      "SVM conseguiu acurácia de 0.5573271889400921 e desvio padrão de 0.018101530918279953\n",
      "KNN conseguiu acurácia de 0.5315582863969961 e desvio padrão de 0.06882384726276387\n",
      "Naive Bayes conseguiu acurácia de 0.5363517665130567 e desvio padrão de 0.06524092710490396\n",
      "Decision Tree conseguiu acurácia de 0.49352107868236905 e desvio padrão de 0.06638629583501339\n"
     ]
    }
   ],
   "source": [
    "test_classifiers(X_normaly_used, y, classifiers, 'normally_used')"
   ]
  },
  {
   "cell_type": "markdown",
   "metadata": {},
   "source": [
    "Existe uma melhora visível em árvores de decisão e Naive Bayes, além de uma melhora pequena no desempenho do KNN quando usamos as variáveis comuns"
   ]
  },
  {
   "cell_type": "markdown",
   "metadata": {},
   "source": [
    "## EDA"
   ]
  },
  {
   "cell_type": "code",
   "execution_count": 10,
   "metadata": {},
   "outputs": [
    {
     "data": {
      "text/html": [
       "<div>\n",
       "<style scoped>\n",
       "    .dataframe tbody tr th:only-of-type {\n",
       "        vertical-align: middle;\n",
       "    }\n",
       "\n",
       "    .dataframe tbody tr th {\n",
       "        vertical-align: top;\n",
       "    }\n",
       "\n",
       "    .dataframe thead th {\n",
       "        text-align: right;\n",
       "    }\n",
       "</style>\n",
       "<table border=\"1\" class=\"dataframe\">\n",
       "  <thead>\n",
       "    <tr style=\"text-align: right;\">\n",
       "      <th></th>\n",
       "      <th>count</th>\n",
       "      <th>mean</th>\n",
       "      <th>std</th>\n",
       "      <th>min</th>\n",
       "      <th>25%</th>\n",
       "      <th>50%</th>\n",
       "      <th>75%</th>\n",
       "      <th>max</th>\n",
       "    </tr>\n",
       "  </thead>\n",
       "  <tbody>\n",
       "    <tr>\n",
       "      <th>0</th>\n",
       "      <td>282.0</td>\n",
       "      <td>0.000000</td>\n",
       "      <td>0.000000</td>\n",
       "      <td>0.0</td>\n",
       "      <td>0.0</td>\n",
       "      <td>0.0</td>\n",
       "      <td>0.000</td>\n",
       "      <td>0.0</td>\n",
       "    </tr>\n",
       "    <tr>\n",
       "      <th>1</th>\n",
       "      <td>282.0</td>\n",
       "      <td>54.411348</td>\n",
       "      <td>9.053083</td>\n",
       "      <td>29.0</td>\n",
       "      <td>48.0</td>\n",
       "      <td>55.0</td>\n",
       "      <td>61.000</td>\n",
       "      <td>77.0</td>\n",
       "    </tr>\n",
       "    <tr>\n",
       "      <th>2</th>\n",
       "      <td>282.0</td>\n",
       "      <td>0.677305</td>\n",
       "      <td>0.468338</td>\n",
       "      <td>0.0</td>\n",
       "      <td>0.0</td>\n",
       "      <td>1.0</td>\n",
       "      <td>1.000</td>\n",
       "      <td>1.0</td>\n",
       "    </tr>\n",
       "    <tr>\n",
       "      <th>3</th>\n",
       "      <td>282.0</td>\n",
       "      <td>-9.000000</td>\n",
       "      <td>0.000000</td>\n",
       "      <td>-9.0</td>\n",
       "      <td>-9.0</td>\n",
       "      <td>-9.0</td>\n",
       "      <td>-9.000</td>\n",
       "      <td>-9.0</td>\n",
       "    </tr>\n",
       "    <tr>\n",
       "      <th>4</th>\n",
       "      <td>282.0</td>\n",
       "      <td>-9.000000</td>\n",
       "      <td>0.000000</td>\n",
       "      <td>-9.0</td>\n",
       "      <td>-9.0</td>\n",
       "      <td>-9.0</td>\n",
       "      <td>-9.000</td>\n",
       "      <td>-9.0</td>\n",
       "    </tr>\n",
       "    <tr>\n",
       "      <th>5</th>\n",
       "      <td>282.0</td>\n",
       "      <td>-9.000000</td>\n",
       "      <td>0.000000</td>\n",
       "      <td>-9.0</td>\n",
       "      <td>-9.0</td>\n",
       "      <td>-9.0</td>\n",
       "      <td>-9.000</td>\n",
       "      <td>-9.0</td>\n",
       "    </tr>\n",
       "    <tr>\n",
       "      <th>6</th>\n",
       "      <td>282.0</td>\n",
       "      <td>-9.000000</td>\n",
       "      <td>0.000000</td>\n",
       "      <td>-9.0</td>\n",
       "      <td>-9.0</td>\n",
       "      <td>-9.0</td>\n",
       "      <td>-9.000</td>\n",
       "      <td>-9.0</td>\n",
       "    </tr>\n",
       "    <tr>\n",
       "      <th>7</th>\n",
       "      <td>282.0</td>\n",
       "      <td>3.163121</td>\n",
       "      <td>0.955405</td>\n",
       "      <td>1.0</td>\n",
       "      <td>3.0</td>\n",
       "      <td>3.0</td>\n",
       "      <td>4.000</td>\n",
       "      <td>4.0</td>\n",
       "    </tr>\n",
       "    <tr>\n",
       "      <th>8</th>\n",
       "      <td>282.0</td>\n",
       "      <td>131.563830</td>\n",
       "      <td>17.757496</td>\n",
       "      <td>94.0</td>\n",
       "      <td>120.0</td>\n",
       "      <td>130.0</td>\n",
       "      <td>140.000</td>\n",
       "      <td>200.0</td>\n",
       "    </tr>\n",
       "    <tr>\n",
       "      <th>9</th>\n",
       "      <td>282.0</td>\n",
       "      <td>0.617021</td>\n",
       "      <td>0.486977</td>\n",
       "      <td>0.0</td>\n",
       "      <td>0.0</td>\n",
       "      <td>1.0</td>\n",
       "      <td>1.000</td>\n",
       "      <td>1.0</td>\n",
       "    </tr>\n",
       "    <tr>\n",
       "      <th>10</th>\n",
       "      <td>282.0</td>\n",
       "      <td>249.092199</td>\n",
       "      <td>51.217546</td>\n",
       "      <td>126.0</td>\n",
       "      <td>213.0</td>\n",
       "      <td>244.0</td>\n",
       "      <td>277.000</td>\n",
       "      <td>564.0</td>\n",
       "    </tr>\n",
       "    <tr>\n",
       "      <th>11</th>\n",
       "      <td>282.0</td>\n",
       "      <td>-9.000000</td>\n",
       "      <td>0.000000</td>\n",
       "      <td>-9.0</td>\n",
       "      <td>-9.0</td>\n",
       "      <td>-9.0</td>\n",
       "      <td>-9.000</td>\n",
       "      <td>-9.0</td>\n",
       "    </tr>\n",
       "    <tr>\n",
       "      <th>12</th>\n",
       "      <td>282.0</td>\n",
       "      <td>16.460993</td>\n",
       "      <td>19.580300</td>\n",
       "      <td>-9.0</td>\n",
       "      <td>0.0</td>\n",
       "      <td>10.0</td>\n",
       "      <td>30.000</td>\n",
       "      <td>99.0</td>\n",
       "    </tr>\n",
       "    <tr>\n",
       "      <th>13</th>\n",
       "      <td>282.0</td>\n",
       "      <td>14.829787</td>\n",
       "      <td>15.564563</td>\n",
       "      <td>-9.0</td>\n",
       "      <td>0.0</td>\n",
       "      <td>15.0</td>\n",
       "      <td>30.000</td>\n",
       "      <td>54.0</td>\n",
       "    </tr>\n",
       "    <tr>\n",
       "      <th>14</th>\n",
       "      <td>282.0</td>\n",
       "      <td>0.148936</td>\n",
       "      <td>0.356658</td>\n",
       "      <td>0.0</td>\n",
       "      <td>0.0</td>\n",
       "      <td>0.0</td>\n",
       "      <td>0.000</td>\n",
       "      <td>1.0</td>\n",
       "    </tr>\n",
       "    <tr>\n",
       "      <th>15</th>\n",
       "      <td>282.0</td>\n",
       "      <td>-8.184397</td>\n",
       "      <td>2.741802</td>\n",
       "      <td>-9.0</td>\n",
       "      <td>-9.0</td>\n",
       "      <td>-9.0</td>\n",
       "      <td>-9.000</td>\n",
       "      <td>1.0</td>\n",
       "    </tr>\n",
       "    <tr>\n",
       "      <th>16</th>\n",
       "      <td>282.0</td>\n",
       "      <td>0.620567</td>\n",
       "      <td>0.486108</td>\n",
       "      <td>0.0</td>\n",
       "      <td>0.0</td>\n",
       "      <td>1.0</td>\n",
       "      <td>1.000</td>\n",
       "      <td>1.0</td>\n",
       "    </tr>\n",
       "    <tr>\n",
       "      <th>17</th>\n",
       "      <td>282.0</td>\n",
       "      <td>1.014184</td>\n",
       "      <td>0.998118</td>\n",
       "      <td>0.0</td>\n",
       "      <td>0.0</td>\n",
       "      <td>2.0</td>\n",
       "      <td>2.000</td>\n",
       "      <td>2.0</td>\n",
       "    </tr>\n",
       "    <tr>\n",
       "      <th>18</th>\n",
       "      <td>282.0</td>\n",
       "      <td>6.404255</td>\n",
       "      <td>3.790752</td>\n",
       "      <td>1.0</td>\n",
       "      <td>3.0</td>\n",
       "      <td>7.0</td>\n",
       "      <td>10.000</td>\n",
       "      <td>12.0</td>\n",
       "    </tr>\n",
       "    <tr>\n",
       "      <th>19</th>\n",
       "      <td>282.0</td>\n",
       "      <td>15.223404</td>\n",
       "      <td>8.686089</td>\n",
       "      <td>1.0</td>\n",
       "      <td>8.0</td>\n",
       "      <td>15.0</td>\n",
       "      <td>22.000</td>\n",
       "      <td>31.0</td>\n",
       "    </tr>\n",
       "    <tr>\n",
       "      <th>20</th>\n",
       "      <td>282.0</td>\n",
       "      <td>82.301418</td>\n",
       "      <td>0.960759</td>\n",
       "      <td>81.0</td>\n",
       "      <td>82.0</td>\n",
       "      <td>82.0</td>\n",
       "      <td>83.000</td>\n",
       "      <td>84.0</td>\n",
       "    </tr>\n",
       "    <tr>\n",
       "      <th>21</th>\n",
       "      <td>282.0</td>\n",
       "      <td>-0.031915</td>\n",
       "      <td>0.779435</td>\n",
       "      <td>-9.0</td>\n",
       "      <td>0.0</td>\n",
       "      <td>0.0</td>\n",
       "      <td>0.000</td>\n",
       "      <td>1.0</td>\n",
       "    </tr>\n",
       "    <tr>\n",
       "      <th>22</th>\n",
       "      <td>282.0</td>\n",
       "      <td>0.269504</td>\n",
       "      <td>0.915501</td>\n",
       "      <td>-9.0</td>\n",
       "      <td>0.0</td>\n",
       "      <td>0.0</td>\n",
       "      <td>1.000</td>\n",
       "      <td>1.0</td>\n",
       "    </tr>\n",
       "    <tr>\n",
       "      <th>23</th>\n",
       "      <td>282.0</td>\n",
       "      <td>0.180851</td>\n",
       "      <td>0.888392</td>\n",
       "      <td>-9.0</td>\n",
       "      <td>0.0</td>\n",
       "      <td>0.0</td>\n",
       "      <td>0.000</td>\n",
       "      <td>1.0</td>\n",
       "    </tr>\n",
       "    <tr>\n",
       "      <th>24</th>\n",
       "      <td>282.0</td>\n",
       "      <td>0.035461</td>\n",
       "      <td>0.821520</td>\n",
       "      <td>-9.0</td>\n",
       "      <td>0.0</td>\n",
       "      <td>0.0</td>\n",
       "      <td>0.000</td>\n",
       "      <td>1.0</td>\n",
       "    </tr>\n",
       "    <tr>\n",
       "      <th>25</th>\n",
       "      <td>282.0</td>\n",
       "      <td>0.049645</td>\n",
       "      <td>0.829408</td>\n",
       "      <td>-9.0</td>\n",
       "      <td>0.0</td>\n",
       "      <td>0.0</td>\n",
       "      <td>0.000</td>\n",
       "      <td>1.0</td>\n",
       "    </tr>\n",
       "    <tr>\n",
       "      <th>26</th>\n",
       "      <td>282.0</td>\n",
       "      <td>1.000000</td>\n",
       "      <td>0.000000</td>\n",
       "      <td>1.0</td>\n",
       "      <td>1.0</td>\n",
       "      <td>1.0</td>\n",
       "      <td>1.000</td>\n",
       "      <td>1.0</td>\n",
       "    </tr>\n",
       "    <tr>\n",
       "      <th>27</th>\n",
       "      <td>282.0</td>\n",
       "      <td>8.418440</td>\n",
       "      <td>2.590569</td>\n",
       "      <td>1.8</td>\n",
       "      <td>6.5</td>\n",
       "      <td>8.5</td>\n",
       "      <td>10.075</td>\n",
       "      <td>15.0</td>\n",
       "    </tr>\n",
       "    <tr>\n",
       "      <th>28</th>\n",
       "      <td>282.0</td>\n",
       "      <td>1.485816</td>\n",
       "      <td>6.693648</td>\n",
       "      <td>-9.0</td>\n",
       "      <td>0.0</td>\n",
       "      <td>3.0</td>\n",
       "      <td>6.000</td>\n",
       "      <td>15.0</td>\n",
       "    </tr>\n",
       "    <tr>\n",
       "      <th>29</th>\n",
       "      <td>282.0</td>\n",
       "      <td>9.753546</td>\n",
       "      <td>2.961870</td>\n",
       "      <td>3.0</td>\n",
       "      <td>7.0</td>\n",
       "      <td>9.0</td>\n",
       "      <td>12.000</td>\n",
       "      <td>18.0</td>\n",
       "    </tr>\n",
       "    <tr>\n",
       "      <th>...</th>\n",
       "      <td>...</td>\n",
       "      <td>...</td>\n",
       "      <td>...</td>\n",
       "      <td>...</td>\n",
       "      <td>...</td>\n",
       "      <td>...</td>\n",
       "      <td>...</td>\n",
       "      <td>...</td>\n",
       "    </tr>\n",
       "    <tr>\n",
       "      <th>44</th>\n",
       "      <td>282.0</td>\n",
       "      <td>-9.000000</td>\n",
       "      <td>0.000000</td>\n",
       "      <td>-9.0</td>\n",
       "      <td>-9.0</td>\n",
       "      <td>-9.0</td>\n",
       "      <td>-9.000</td>\n",
       "      <td>-9.0</td>\n",
       "    </tr>\n",
       "    <tr>\n",
       "      <th>45</th>\n",
       "      <td>282.0</td>\n",
       "      <td>-9.000000</td>\n",
       "      <td>0.000000</td>\n",
       "      <td>-9.0</td>\n",
       "      <td>-9.0</td>\n",
       "      <td>-9.0</td>\n",
       "      <td>-9.000</td>\n",
       "      <td>-9.0</td>\n",
       "    </tr>\n",
       "    <tr>\n",
       "      <th>46</th>\n",
       "      <td>282.0</td>\n",
       "      <td>-9.000000</td>\n",
       "      <td>0.000000</td>\n",
       "      <td>-9.0</td>\n",
       "      <td>-9.0</td>\n",
       "      <td>-9.0</td>\n",
       "      <td>-9.000</td>\n",
       "      <td>-9.0</td>\n",
       "    </tr>\n",
       "    <tr>\n",
       "      <th>47</th>\n",
       "      <td>282.0</td>\n",
       "      <td>-9.000000</td>\n",
       "      <td>0.000000</td>\n",
       "      <td>-9.0</td>\n",
       "      <td>-9.0</td>\n",
       "      <td>-9.0</td>\n",
       "      <td>-9.000</td>\n",
       "      <td>-9.0</td>\n",
       "    </tr>\n",
       "    <tr>\n",
       "      <th>48</th>\n",
       "      <td>282.0</td>\n",
       "      <td>-9.000000</td>\n",
       "      <td>0.000000</td>\n",
       "      <td>-9.0</td>\n",
       "      <td>-9.0</td>\n",
       "      <td>-9.0</td>\n",
       "      <td>-9.000</td>\n",
       "      <td>-9.0</td>\n",
       "    </tr>\n",
       "    <tr>\n",
       "      <th>49</th>\n",
       "      <td>282.0</td>\n",
       "      <td>4.581560</td>\n",
       "      <td>2.248467</td>\n",
       "      <td>-9.0</td>\n",
       "      <td>3.0</td>\n",
       "      <td>3.0</td>\n",
       "      <td>7.000</td>\n",
       "      <td>7.0</td>\n",
       "    </tr>\n",
       "    <tr>\n",
       "      <th>50</th>\n",
       "      <td>282.0</td>\n",
       "      <td>-9.000000</td>\n",
       "      <td>0.000000</td>\n",
       "      <td>-9.0</td>\n",
       "      <td>-9.0</td>\n",
       "      <td>-9.0</td>\n",
       "      <td>-9.000</td>\n",
       "      <td>-9.0</td>\n",
       "    </tr>\n",
       "    <tr>\n",
       "      <th>51</th>\n",
       "      <td>282.0</td>\n",
       "      <td>-9.000000</td>\n",
       "      <td>0.000000</td>\n",
       "      <td>-9.0</td>\n",
       "      <td>-9.0</td>\n",
       "      <td>-9.0</td>\n",
       "      <td>-9.000</td>\n",
       "      <td>-9.0</td>\n",
       "    </tr>\n",
       "    <tr>\n",
       "      <th>52</th>\n",
       "      <td>282.0</td>\n",
       "      <td>-9.000000</td>\n",
       "      <td>0.000000</td>\n",
       "      <td>-9.0</td>\n",
       "      <td>-9.0</td>\n",
       "      <td>-9.0</td>\n",
       "      <td>-9.000</td>\n",
       "      <td>-9.0</td>\n",
       "    </tr>\n",
       "    <tr>\n",
       "      <th>53</th>\n",
       "      <td>282.0</td>\n",
       "      <td>6.400709</td>\n",
       "      <td>3.744376</td>\n",
       "      <td>1.0</td>\n",
       "      <td>3.0</td>\n",
       "      <td>7.0</td>\n",
       "      <td>10.000</td>\n",
       "      <td>12.0</td>\n",
       "    </tr>\n",
       "    <tr>\n",
       "      <th>54</th>\n",
       "      <td>282.0</td>\n",
       "      <td>15.347518</td>\n",
       "      <td>8.830541</td>\n",
       "      <td>1.0</td>\n",
       "      <td>8.0</td>\n",
       "      <td>15.0</td>\n",
       "      <td>22.000</td>\n",
       "      <td>31.0</td>\n",
       "    </tr>\n",
       "    <tr>\n",
       "      <th>55</th>\n",
       "      <td>282.0</td>\n",
       "      <td>82.304965</td>\n",
       "      <td>0.957780</td>\n",
       "      <td>81.0</td>\n",
       "      <td>82.0</td>\n",
       "      <td>82.0</td>\n",
       "      <td>83.000</td>\n",
       "      <td>84.0</td>\n",
       "    </tr>\n",
       "    <tr>\n",
       "      <th>56</th>\n",
       "      <td>282.0</td>\n",
       "      <td>0.907801</td>\n",
       "      <td>1.224894</td>\n",
       "      <td>0.0</td>\n",
       "      <td>0.0</td>\n",
       "      <td>0.0</td>\n",
       "      <td>2.000</td>\n",
       "      <td>4.0</td>\n",
       "    </tr>\n",
       "    <tr>\n",
       "      <th>57</th>\n",
       "      <td>282.0</td>\n",
       "      <td>1.042553</td>\n",
       "      <td>0.202206</td>\n",
       "      <td>1.0</td>\n",
       "      <td>1.0</td>\n",
       "      <td>1.0</td>\n",
       "      <td>1.000</td>\n",
       "      <td>2.0</td>\n",
       "    </tr>\n",
       "    <tr>\n",
       "      <th>58</th>\n",
       "      <td>282.0</td>\n",
       "      <td>1.141844</td>\n",
       "      <td>0.349510</td>\n",
       "      <td>1.0</td>\n",
       "      <td>1.0</td>\n",
       "      <td>1.0</td>\n",
       "      <td>1.000</td>\n",
       "      <td>2.0</td>\n",
       "    </tr>\n",
       "    <tr>\n",
       "      <th>59</th>\n",
       "      <td>282.0</td>\n",
       "      <td>1.205674</td>\n",
       "      <td>0.404912</td>\n",
       "      <td>1.0</td>\n",
       "      <td>1.0</td>\n",
       "      <td>1.0</td>\n",
       "      <td>1.000</td>\n",
       "      <td>2.0</td>\n",
       "    </tr>\n",
       "    <tr>\n",
       "      <th>60</th>\n",
       "      <td>282.0</td>\n",
       "      <td>-9.000000</td>\n",
       "      <td>0.000000</td>\n",
       "      <td>-9.0</td>\n",
       "      <td>-9.0</td>\n",
       "      <td>-9.0</td>\n",
       "      <td>-9.000</td>\n",
       "      <td>-9.0</td>\n",
       "    </tr>\n",
       "    <tr>\n",
       "      <th>61</th>\n",
       "      <td>282.0</td>\n",
       "      <td>1.156028</td>\n",
       "      <td>0.363527</td>\n",
       "      <td>1.0</td>\n",
       "      <td>1.0</td>\n",
       "      <td>1.0</td>\n",
       "      <td>1.000</td>\n",
       "      <td>2.0</td>\n",
       "    </tr>\n",
       "    <tr>\n",
       "      <th>62</th>\n",
       "      <td>282.0</td>\n",
       "      <td>-9.000000</td>\n",
       "      <td>0.000000</td>\n",
       "      <td>-9.0</td>\n",
       "      <td>-9.0</td>\n",
       "      <td>-9.0</td>\n",
       "      <td>-9.000</td>\n",
       "      <td>-9.0</td>\n",
       "    </tr>\n",
       "    <tr>\n",
       "      <th>63</th>\n",
       "      <td>282.0</td>\n",
       "      <td>1.163121</td>\n",
       "      <td>0.370132</td>\n",
       "      <td>1.0</td>\n",
       "      <td>1.0</td>\n",
       "      <td>1.0</td>\n",
       "      <td>1.000</td>\n",
       "      <td>2.0</td>\n",
       "    </tr>\n",
       "    <tr>\n",
       "      <th>64</th>\n",
       "      <td>282.0</td>\n",
       "      <td>-9.000000</td>\n",
       "      <td>0.000000</td>\n",
       "      <td>-9.0</td>\n",
       "      <td>-9.0</td>\n",
       "      <td>-9.0</td>\n",
       "      <td>-9.000</td>\n",
       "      <td>-9.0</td>\n",
       "    </tr>\n",
       "    <tr>\n",
       "      <th>65</th>\n",
       "      <td>282.0</td>\n",
       "      <td>1.173759</td>\n",
       "      <td>0.379576</td>\n",
       "      <td>1.0</td>\n",
       "      <td>1.0</td>\n",
       "      <td>1.0</td>\n",
       "      <td>1.000</td>\n",
       "      <td>2.0</td>\n",
       "    </tr>\n",
       "    <tr>\n",
       "      <th>66</th>\n",
       "      <td>282.0</td>\n",
       "      <td>1.127660</td>\n",
       "      <td>0.334304</td>\n",
       "      <td>1.0</td>\n",
       "      <td>1.0</td>\n",
       "      <td>1.0</td>\n",
       "      <td>1.000</td>\n",
       "      <td>2.0</td>\n",
       "    </tr>\n",
       "    <tr>\n",
       "      <th>67</th>\n",
       "      <td>282.0</td>\n",
       "      <td>1.000000</td>\n",
       "      <td>0.000000</td>\n",
       "      <td>1.0</td>\n",
       "      <td>1.0</td>\n",
       "      <td>1.0</td>\n",
       "      <td>1.000</td>\n",
       "      <td>1.0</td>\n",
       "    </tr>\n",
       "    <tr>\n",
       "      <th>68</th>\n",
       "      <td>282.0</td>\n",
       "      <td>1.000000</td>\n",
       "      <td>0.000000</td>\n",
       "      <td>1.0</td>\n",
       "      <td>1.0</td>\n",
       "      <td>1.0</td>\n",
       "      <td>1.000</td>\n",
       "      <td>1.0</td>\n",
       "    </tr>\n",
       "    <tr>\n",
       "      <th>69</th>\n",
       "      <td>282.0</td>\n",
       "      <td>1.134752</td>\n",
       "      <td>0.766002</td>\n",
       "      <td>1.0</td>\n",
       "      <td>1.0</td>\n",
       "      <td>1.0</td>\n",
       "      <td>1.000</td>\n",
       "      <td>8.0</td>\n",
       "    </tr>\n",
       "    <tr>\n",
       "      <th>70</th>\n",
       "      <td>282.0</td>\n",
       "      <td>1.411348</td>\n",
       "      <td>1.439508</td>\n",
       "      <td>1.0</td>\n",
       "      <td>1.0</td>\n",
       "      <td>1.0</td>\n",
       "      <td>1.000</td>\n",
       "      <td>8.0</td>\n",
       "    </tr>\n",
       "    <tr>\n",
       "      <th>71</th>\n",
       "      <td>282.0</td>\n",
       "      <td>1.145390</td>\n",
       "      <td>0.442570</td>\n",
       "      <td>1.0</td>\n",
       "      <td>1.0</td>\n",
       "      <td>1.0</td>\n",
       "      <td>1.000</td>\n",
       "      <td>4.0</td>\n",
       "    </tr>\n",
       "    <tr>\n",
       "      <th>72</th>\n",
       "      <td>282.0</td>\n",
       "      <td>-9.000000</td>\n",
       "      <td>0.000000</td>\n",
       "      <td>-9.0</td>\n",
       "      <td>-9.0</td>\n",
       "      <td>-9.0</td>\n",
       "      <td>-9.000</td>\n",
       "      <td>-9.0</td>\n",
       "    </tr>\n",
       "    <tr>\n",
       "      <th>73</th>\n",
       "      <td>282.0</td>\n",
       "      <td>-9.000000</td>\n",
       "      <td>0.000000</td>\n",
       "      <td>-9.0</td>\n",
       "      <td>-9.0</td>\n",
       "      <td>-9.0</td>\n",
       "      <td>-9.000</td>\n",
       "      <td>-9.0</td>\n",
       "    </tr>\n",
       "  </tbody>\n",
       "</table>\n",
       "<p>74 rows × 8 columns</p>\n",
       "</div>"
      ],
      "text/plain": [
       "    count        mean        std    min    25%    50%      75%    max\n",
       "0   282.0    0.000000   0.000000    0.0    0.0    0.0    0.000    0.0\n",
       "1   282.0   54.411348   9.053083   29.0   48.0   55.0   61.000   77.0\n",
       "2   282.0    0.677305   0.468338    0.0    0.0    1.0    1.000    1.0\n",
       "3   282.0   -9.000000   0.000000   -9.0   -9.0   -9.0   -9.000   -9.0\n",
       "4   282.0   -9.000000   0.000000   -9.0   -9.0   -9.0   -9.000   -9.0\n",
       "5   282.0   -9.000000   0.000000   -9.0   -9.0   -9.0   -9.000   -9.0\n",
       "6   282.0   -9.000000   0.000000   -9.0   -9.0   -9.0   -9.000   -9.0\n",
       "7   282.0    3.163121   0.955405    1.0    3.0    3.0    4.000    4.0\n",
       "8   282.0  131.563830  17.757496   94.0  120.0  130.0  140.000  200.0\n",
       "9   282.0    0.617021   0.486977    0.0    0.0    1.0    1.000    1.0\n",
       "10  282.0  249.092199  51.217546  126.0  213.0  244.0  277.000  564.0\n",
       "11  282.0   -9.000000   0.000000   -9.0   -9.0   -9.0   -9.000   -9.0\n",
       "12  282.0   16.460993  19.580300   -9.0    0.0   10.0   30.000   99.0\n",
       "13  282.0   14.829787  15.564563   -9.0    0.0   15.0   30.000   54.0\n",
       "14  282.0    0.148936   0.356658    0.0    0.0    0.0    0.000    1.0\n",
       "15  282.0   -8.184397   2.741802   -9.0   -9.0   -9.0   -9.000    1.0\n",
       "16  282.0    0.620567   0.486108    0.0    0.0    1.0    1.000    1.0\n",
       "17  282.0    1.014184   0.998118    0.0    0.0    2.0    2.000    2.0\n",
       "18  282.0    6.404255   3.790752    1.0    3.0    7.0   10.000   12.0\n",
       "19  282.0   15.223404   8.686089    1.0    8.0   15.0   22.000   31.0\n",
       "20  282.0   82.301418   0.960759   81.0   82.0   82.0   83.000   84.0\n",
       "21  282.0   -0.031915   0.779435   -9.0    0.0    0.0    0.000    1.0\n",
       "22  282.0    0.269504   0.915501   -9.0    0.0    0.0    1.000    1.0\n",
       "23  282.0    0.180851   0.888392   -9.0    0.0    0.0    0.000    1.0\n",
       "24  282.0    0.035461   0.821520   -9.0    0.0    0.0    0.000    1.0\n",
       "25  282.0    0.049645   0.829408   -9.0    0.0    0.0    0.000    1.0\n",
       "26  282.0    1.000000   0.000000    1.0    1.0    1.0    1.000    1.0\n",
       "27  282.0    8.418440   2.590569    1.8    6.5    8.5   10.075   15.0\n",
       "28  282.0    1.485816   6.693648   -9.0    0.0    3.0    6.000   15.0\n",
       "29  282.0    9.753546   2.961870    3.0    7.0    9.0   12.000   18.0\n",
       "..    ...         ...        ...    ...    ...    ...      ...    ...\n",
       "44  282.0   -9.000000   0.000000   -9.0   -9.0   -9.0   -9.000   -9.0\n",
       "45  282.0   -9.000000   0.000000   -9.0   -9.0   -9.0   -9.000   -9.0\n",
       "46  282.0   -9.000000   0.000000   -9.0   -9.0   -9.0   -9.000   -9.0\n",
       "47  282.0   -9.000000   0.000000   -9.0   -9.0   -9.0   -9.000   -9.0\n",
       "48  282.0   -9.000000   0.000000   -9.0   -9.0   -9.0   -9.000   -9.0\n",
       "49  282.0    4.581560   2.248467   -9.0    3.0    3.0    7.000    7.0\n",
       "50  282.0   -9.000000   0.000000   -9.0   -9.0   -9.0   -9.000   -9.0\n",
       "51  282.0   -9.000000   0.000000   -9.0   -9.0   -9.0   -9.000   -9.0\n",
       "52  282.0   -9.000000   0.000000   -9.0   -9.0   -9.0   -9.000   -9.0\n",
       "53  282.0    6.400709   3.744376    1.0    3.0    7.0   10.000   12.0\n",
       "54  282.0   15.347518   8.830541    1.0    8.0   15.0   22.000   31.0\n",
       "55  282.0   82.304965   0.957780   81.0   82.0   82.0   83.000   84.0\n",
       "56  282.0    0.907801   1.224894    0.0    0.0    0.0    2.000    4.0\n",
       "57  282.0    1.042553   0.202206    1.0    1.0    1.0    1.000    2.0\n",
       "58  282.0    1.141844   0.349510    1.0    1.0    1.0    1.000    2.0\n",
       "59  282.0    1.205674   0.404912    1.0    1.0    1.0    1.000    2.0\n",
       "60  282.0   -9.000000   0.000000   -9.0   -9.0   -9.0   -9.000   -9.0\n",
       "61  282.0    1.156028   0.363527    1.0    1.0    1.0    1.000    2.0\n",
       "62  282.0   -9.000000   0.000000   -9.0   -9.0   -9.0   -9.000   -9.0\n",
       "63  282.0    1.163121   0.370132    1.0    1.0    1.0    1.000    2.0\n",
       "64  282.0   -9.000000   0.000000   -9.0   -9.0   -9.0   -9.000   -9.0\n",
       "65  282.0    1.173759   0.379576    1.0    1.0    1.0    1.000    2.0\n",
       "66  282.0    1.127660   0.334304    1.0    1.0    1.0    1.000    2.0\n",
       "67  282.0    1.000000   0.000000    1.0    1.0    1.0    1.000    1.0\n",
       "68  282.0    1.000000   0.000000    1.0    1.0    1.0    1.000    1.0\n",
       "69  282.0    1.134752   0.766002    1.0    1.0    1.0    1.000    8.0\n",
       "70  282.0    1.411348   1.439508    1.0    1.0    1.0    1.000    8.0\n",
       "71  282.0    1.145390   0.442570    1.0    1.0    1.0    1.000    4.0\n",
       "72  282.0   -9.000000   0.000000   -9.0   -9.0   -9.0   -9.000   -9.0\n",
       "73  282.0   -9.000000   0.000000   -9.0   -9.0   -9.0   -9.000   -9.0\n",
       "\n",
       "[74 rows x 8 columns]"
      ]
     },
     "execution_count": 10,
     "metadata": {},
     "output_type": "execute_result"
    }
   ],
   "source": [
    "data.describe().T"
   ]
  },
  {
   "cell_type": "markdown",
   "metadata": {},
   "source": [
    "Notamos os seguintes fatores importantes:\n",
    "* Escalas bastante diferentes, portanto pode valer a pena normalizar\n",
    "* Valores sem desvio padrão, ou seja, que são iguais para todos os indivíduos"
   ]
  },
  {
   "cell_type": "code",
   "execution_count": 11,
   "metadata": {},
   "outputs": [
    {
     "data": {
      "text/plain": [
       "<Figure size 640x480 with 1 Axes>"
      ]
     },
     "metadata": {},
     "output_type": "display_data"
    }
   ],
   "source": [
    "import matplotlib.pyplot as plt\n",
    "import seaborn as sns\n",
    "sns.countplot(y)\n",
    "plt.show()"
   ]
  },
  {
   "cell_type": "markdown",
   "metadata": {},
   "source": [
    "A priori ficariamos preocupados com o desbalanço, porém em geral a task é apenas de prever se existe\n",
    "doença (y > 0) ou não"
   ]
  },
  {
   "cell_type": "code",
   "execution_count": 12,
   "metadata": {},
   "outputs": [],
   "source": [
    "y = y.apply(lambda x: 0.0 if x == 0 else 1.0)"
   ]
  },
  {
   "cell_type": "code",
   "execution_count": 13,
   "metadata": {},
   "outputs": [
    {
     "data": {
      "image/png": "[encoded data removed]",
      "text/plain": [
       "<Figure size 432x288 with 1 Axes>"
      ]
     },
     "metadata": {
      "needs_background": "light"
     },
     "output_type": "display_data"
    }
   ],
   "source": [
    "sns.countplot(y)\n",
    "plt.show()"
   ]
  },
  {
   "cell_type": "code",
   "execution_count": 14,
   "metadata": {},
   "outputs": [
    {
     "data": {
      "text/plain": [
       "0.0    157\n",
       "1.0    125\n",
       "Name: 56, dtype: int64"
      ]
     },
     "execution_count": 14,
     "metadata": {},
     "output_type": "execute_result"
    }
   ],
   "source": [
    "y.value_counts()"
   ]
  },
  {
   "cell_type": "code",
   "execution_count": 15,
   "metadata": {},
   "outputs": [
    {
     "data": {
      "text/plain": [
       "<matplotlib.axes._subplots.AxesSubplot at 0x7fd24367a0b8>"
      ]
     },
     "execution_count": 15,
     "metadata": {},
     "output_type": "execute_result"
    },
    {
     "data": {
      "image/png": "[encoded data removed]",
      "text/plain": [
       "<Figure size 648x432 with 2 Axes>"
      ]
     },
     "metadata": {
      "needs_background": "light"
     },
     "output_type": "display_data"
    }
   ],
   "source": [
    "corr = X.corr()\n",
    "f, ax = plt.subplots(figsize=(9, 6))\n",
    "sns.heatmap(corr, annot=True, linewidths=.5, ax=ax)"
   ]
  },
  {
   "cell_type": "markdown",
   "metadata": {},
   "source": [
    "Aquie já podemos observar a importância de seleção de atributos e redução de dimensão, uma vez que é\n",
    "impossível usar boa parte das nossas técnicas de EDA com uma quantidade tão elevada de atributos"
   ]
  },
  {
   "cell_type": "code",
   "execution_count": 16,
   "metadata": {},
   "outputs": [
    {
     "data": {
      "text/plain": [
       "<matplotlib.axes._subplots.AxesSubplot at 0x7fd240a9c828>"
      ]
     },
     "execution_count": 16,
     "metadata": {},
     "output_type": "execute_result"
    },
    {
     "data": {
      "image/png": "[encoded data removed]",
      "text/plain": [
       "<Figure size 648x432 with 2 Axes>"
      ]
     },
     "metadata": {
      "needs_background": "light"
     },
     "output_type": "display_data"
    }
   ],
   "source": [
    "corr = abs(X_normaly_used.corr())\n",
    "f, ax = plt.subplots(figsize=(9, 6))\n",
    "sns.heatmap(corr, annot=True, linewidths=.5, ax=ax)"
   ]
  },
  {
   "cell_type": "code",
   "execution_count": 17,
   "metadata": {},
   "outputs": [
    {
     "data": {
      "text/plain": [
       "0     0\n",
       "1     0\n",
       "2     0\n",
       "3     0\n",
       "4     0\n",
       "5     0\n",
       "6     0\n",
       "7     0\n",
       "8     0\n",
       "9     0\n",
       "10    0\n",
       "11    0\n",
       "12    0\n",
       "13    0\n",
       "14    0\n",
       "15    0\n",
       "16    0\n",
       "17    0\n",
       "18    0\n",
       "19    0\n",
       "20    0\n",
       "21    0\n",
       "22    0\n",
       "23    0\n",
       "24    0\n",
       "25    0\n",
       "26    0\n",
       "27    0\n",
       "28    0\n",
       "29    0\n",
       "30    0\n",
       "31    0\n",
       "32    0\n",
       "33    0\n",
       "34    0\n",
       "35    0\n",
       "36    0\n",
       "37    0\n",
       "38    0\n",
       "39    0\n",
       "40    0\n",
       "41    0\n",
       "42    0\n",
       "43    0\n",
       "44    0\n",
       "45    0\n",
       "46    0\n",
       "47    0\n",
       "48    0\n",
       "49    0\n",
       "50    0\n",
       "51    0\n",
       "52    0\n",
       "53    0\n",
       "54    0\n",
       "55    0\n",
       "dtype: int64"
      ]
     },
     "execution_count": 17,
     "metadata": {},
     "output_type": "execute_result"
    }
   ],
   "source": [
    "X.isna().sum()"
   ]
  },
  {
   "cell_type": "code",
   "execution_count": 18,
   "metadata": {},
   "outputs": [
    {
     "data": {
      "text/plain": [
       "0"
      ]
     },
     "execution_count": 18,
     "metadata": {},
     "output_type": "execute_result"
    }
   ],
   "source": [
    "X.isna().sum().sum()"
   ]
  },
  {
   "cell_type": "markdown",
   "metadata": {},
   "source": [
    "Felizmente não há nulos"
   ]
  },
  {
   "cell_type": "code",
   "execution_count": 19,
   "metadata": {},
   "outputs": [
    {
     "name": "stderr",
     "output_type": "stream",
     "text": [
      "/home/john/anaconda3/envs/data/lib/python3.7/site-packages/sklearn/preprocessing/data.py:645: DataConversionWarning: Data with input dtype int64, float64 were all converted to float64 by StandardScaler.\n",
      "  return self.partial_fit(X, y)\n",
      "/home/john/anaconda3/envs/data/lib/python3.7/site-packages/ipykernel_launcher.py:4: DataConversionWarning: Data with input dtype int64, float64 were all converted to float64 by StandardScaler.\n",
      "  after removing the cwd from sys.path.\n",
      "/home/john/anaconda3/envs/data/lib/python3.7/site-packages/sklearn/preprocessing/data.py:645: DataConversionWarning: Data with input dtype int64, float64 were all converted to float64 by StandardScaler.\n",
      "  return self.partial_fit(X, y)\n",
      "/home/john/anaconda3/envs/data/lib/python3.7/site-packages/sklearn/base.py:464: DataConversionWarning: Data with input dtype int64, float64 were all converted to float64 by StandardScaler.\n",
      "  return self.fit(X, **fit_params).transform(X)\n"
     ]
    }
   ],
   "source": [
    "from sklearn.preprocessing import StandardScaler\n",
    "scaler = StandardScaler()\n",
    "scaler.fit(X)\n",
    "X = pd.DataFrame(scaler.transform(X))\n",
    "X_normaly_used = pd.DataFrame(scaler.fit_transform(X_normaly_used))"
   ]
  },
  {
   "cell_type": "code",
   "execution_count": 20,
   "metadata": {},
   "outputs": [
    {
     "name": "stdout",
     "output_type": "stream",
     "text": [
      "SVM conseguiu acurácia de 0.7964741835431489 e desvio padrão de 0.05588517361789201\n",
      "KNN conseguiu acurácia de 0.7437374566684911 e desvio padrão de 0.06526988107230997\n",
      "Naive Bayes conseguiu acurácia de 0.7012406495165117 e desvio padrão de 0.07704284741502129\n",
      "Decision Tree conseguiu acurácia de 0.7049261083743843 e desvio padrão de 0.08564563276493\n"
     ]
    }
   ],
   "source": [
    "test_classifiers(X, y, classifiers, 'all_variables')"
   ]
  },
  {
   "cell_type": "code",
   "execution_count": 21,
   "metadata": {},
   "outputs": [
    {
     "name": "stdout",
     "output_type": "stream",
     "text": [
      "SVM conseguiu acurácia de 0.817683816821748 e desvio padrão de 0.06849597367414666\n",
      "KNN conseguiu acurácia de 0.814349571246123 e desvio padrão de 0.06333671952151612\n",
      "Naive Bayes conseguiu acurácia de 0.8252052545155992 e desvio padrão de 0.06663526817658201\n",
      "Decision Tree conseguiu acurácia de 0.7508894362342639 e desvio padrão de 0.0769238197295129\n"
     ]
    }
   ],
   "source": [
    "test_classifiers(X_normaly_used, y, classifiers, 'normally_used')"
   ]
  },
  {
   "cell_type": "markdown",
   "metadata": {},
   "source": [
    "## Feature Selection"
   ]
  },
  {
   "cell_type": "markdown",
   "metadata": {},
   "source": [
    "### Univariate Selection"
   ]
  },
  {
   "cell_type": "code",
   "execution_count": 22,
   "metadata": {},
   "outputs": [
    {
     "data": {
      "text/plain": [
       "array([False,  True,  True, False, False, False, False,  True,  True,\n",
       "        True,  True, False,  True,  True,  True,  True,  True,  True,\n",
       "        True,  True,  True,  True,  True,  True,  True,  True, False,\n",
       "        True,  True,  True,  True,  True,  True,  True,  True,  True,\n",
       "        True,  True,  True,  True, False,  True,  True, False, False,\n",
       "       False, False, False, False,  True, False, False, False,  True,\n",
       "        True,  True])"
      ]
     },
     "execution_count": 22,
     "metadata": {},
     "output_type": "execute_result"
    }
   ],
   "source": [
    "from sklearn.feature_selection import VarianceThreshold\n",
    "selector = VarianceThreshold()\n",
    "selector.fit(X)\n",
    "selector.get_support()"
   ]
  },
  {
   "cell_type": "code",
   "execution_count": 23,
   "metadata": {},
   "outputs": [],
   "source": [
    "X = X[X.columns[selector.get_support()]]"
   ]
  },
  {
   "cell_type": "code",
   "execution_count": 24,
   "metadata": {},
   "outputs": [
    {
     "name": "stdout",
     "output_type": "stream",
     "text": [
      "SVM conseguiu acurácia de 0.789331326400292 e desvio padrão de 0.06463043835484553\n",
      "KNN conseguiu acurácia de 0.7437374566684911 e desvio padrão de 0.06526988107230997\n",
      "Naive Bayes conseguiu acurácia de 0.7012406495165117 e desvio padrão de 0.07704284741502129\n",
      "Decision Tree conseguiu acurácia de 0.6940795475278234 e desvio padrão de 0.06656900218042586\n"
     ]
    }
   ],
   "source": [
    "test_classifiers(X, y, classifiers, 'non_zero_variance')"
   ]
  },
  {
   "cell_type": "code",
   "execution_count": 25,
   "metadata": {},
   "outputs": [
    {
     "data": {
      "text/html": [
       "<div>\n",
       "<style scoped>\n",
       "    .dataframe tbody tr th:only-of-type {\n",
       "        vertical-align: middle;\n",
       "    }\n",
       "\n",
       "    .dataframe tbody tr th {\n",
       "        vertical-align: top;\n",
       "    }\n",
       "\n",
       "    .dataframe thead th {\n",
       "        text-align: right;\n",
       "    }\n",
       "</style>\n",
       "<table border=\"1\" class=\"dataframe\">\n",
       "  <thead>\n",
       "    <tr style=\"text-align: right;\">\n",
       "      <th></th>\n",
       "      <th>all_variables</th>\n",
       "      <th>normally_used</th>\n",
       "      <th>non_zero_variance</th>\n",
       "    </tr>\n",
       "  </thead>\n",
       "  <tbody>\n",
       "    <tr>\n",
       "      <th>SVM</th>\n",
       "      <td>0.796474</td>\n",
       "      <td>0.817684</td>\n",
       "      <td>0.789331</td>\n",
       "    </tr>\n",
       "    <tr>\n",
       "      <th>KNN</th>\n",
       "      <td>0.743737</td>\n",
       "      <td>0.814350</td>\n",
       "      <td>0.743737</td>\n",
       "    </tr>\n",
       "    <tr>\n",
       "      <th>Naive Bayes</th>\n",
       "      <td>0.701241</td>\n",
       "      <td>0.825205</td>\n",
       "      <td>0.701241</td>\n",
       "    </tr>\n",
       "    <tr>\n",
       "      <th>Decision Tree</th>\n",
       "      <td>0.704926</td>\n",
       "      <td>0.750889</td>\n",
       "      <td>0.694080</td>\n",
       "    </tr>\n",
       "  </tbody>\n",
       "</table>\n",
       "</div>"
      ],
      "text/plain": [
       "               all_variables  normally_used  non_zero_variance\n",
       "SVM                 0.796474       0.817684           0.789331\n",
       "KNN                 0.743737       0.814350           0.743737\n",
       "Naive Bayes         0.701241       0.825205           0.701241\n",
       "Decision Tree       0.704926       0.750889           0.694080"
      ]
     },
     "execution_count": 25,
     "metadata": {},
     "output_type": "execute_result"
    }
   ],
   "source": [
    "results"
   ]
  },
  {
   "cell_type": "code",
   "execution_count": 26,
   "metadata": {},
   "outputs": [
    {
     "data": {
      "text/plain": [
       "(282, 39)"
      ]
     },
     "execution_count": 26,
     "metadata": {},
     "output_type": "execute_result"
    }
   ],
   "source": [
    "X.shape"
   ]
  },
  {
   "cell_type": "code",
   "execution_count": 27,
   "metadata": {},
   "outputs": [],
   "source": [
    "from sklearn.feature_selection import SelectKBest\n",
    "from sklearn.feature_selection import f_classif\n",
    "Kbest = SelectKBest(f_classif, k=14)\n",
    "Kbest.fit(X.values[:260], y[:260])\n",
    "X_kbest = pd.DataFrame(Kbest.transform(X))"
   ]
  },
  {
   "cell_type": "code",
   "execution_count": 28,
   "metadata": {},
   "outputs": [
    {
     "name": "stdout",
     "output_type": "stream",
     "text": [
      "SVM conseguiu acurácia de 0.8250821018062398 e desvio padrão de 0.05231862024272847\n",
      "KNN conseguiu acurácia de 0.814481846378398 e desvio padrão de 0.05788179155040504\n",
      "Naive Bayes conseguiu acurácia de 0.8078316000729794 e desvio padrão de 0.05367524825251548\n",
      "Decision Tree conseguiu acurácia de 0.7297071702244116 e desvio padrão de 0.08405218610551426\n"
     ]
    }
   ],
   "source": [
    "test_classifiers(X_kbest, y, classifiers, 'k_best')"
   ]
  },
  {
   "cell_type": "code",
   "execution_count": 29,
   "metadata": {},
   "outputs": [
    {
     "data": {
      "text/plain": [
       "Int64Index([1, 2, 7, 17, 27, 28, 29, 30, 34, 36, 38, 39, 42, 49], dtype='int64')"
      ]
     },
     "execution_count": 29,
     "metadata": {},
     "output_type": "execute_result"
    }
   ],
   "source": [
    "X.columns[Kbest.get_support()]"
   ]
  },
  {
   "cell_type": "code",
   "execution_count": 30,
   "metadata": {},
   "outputs": [
    {
     "data": {
      "text/plain": [
       "RangeIndex(start=0, stop=13, step=1)"
      ]
     },
     "execution_count": 30,
     "metadata": {},
     "output_type": "execute_result"
    }
   ],
   "source": [
    "X_normaly_used.columns"
   ]
  },
  {
   "cell_type": "code",
   "execution_count": 31,
   "metadata": {},
   "outputs": [
    {
     "data": {
      "text/html": [
       "<div>\n",
       "<style scoped>\n",
       "    .dataframe tbody tr th:only-of-type {\n",
       "        vertical-align: middle;\n",
       "    }\n",
       "\n",
       "    .dataframe tbody tr th {\n",
       "        vertical-align: top;\n",
       "    }\n",
       "\n",
       "    .dataframe thead th {\n",
       "        text-align: right;\n",
       "    }\n",
       "</style>\n",
       "<table border=\"1\" class=\"dataframe\">\n",
       "  <thead>\n",
       "    <tr style=\"text-align: right;\">\n",
       "      <th></th>\n",
       "      <th>all_variables</th>\n",
       "      <th>normally_used</th>\n",
       "      <th>non_zero_variance</th>\n",
       "      <th>k_best</th>\n",
       "    </tr>\n",
       "  </thead>\n",
       "  <tbody>\n",
       "    <tr>\n",
       "      <th>SVM</th>\n",
       "      <td>0.796474</td>\n",
       "      <td>0.817684</td>\n",
       "      <td>0.789331</td>\n",
       "      <td>0.825082</td>\n",
       "    </tr>\n",
       "    <tr>\n",
       "      <th>KNN</th>\n",
       "      <td>0.743737</td>\n",
       "      <td>0.814350</td>\n",
       "      <td>0.743737</td>\n",
       "      <td>0.814482</td>\n",
       "    </tr>\n",
       "    <tr>\n",
       "      <th>Naive Bayes</th>\n",
       "      <td>0.701241</td>\n",
       "      <td>0.825205</td>\n",
       "      <td>0.701241</td>\n",
       "      <td>0.807832</td>\n",
       "    </tr>\n",
       "    <tr>\n",
       "      <th>Decision Tree</th>\n",
       "      <td>0.704926</td>\n",
       "      <td>0.750889</td>\n",
       "      <td>0.694080</td>\n",
       "      <td>0.729707</td>\n",
       "    </tr>\n",
       "  </tbody>\n",
       "</table>\n",
       "</div>"
      ],
      "text/plain": [
       "               all_variables  normally_used  non_zero_variance    k_best\n",
       "SVM                 0.796474       0.817684           0.789331  0.825082\n",
       "KNN                 0.743737       0.814350           0.743737  0.814482\n",
       "Naive Bayes         0.701241       0.825205           0.701241  0.807832\n",
       "Decision Tree       0.704926       0.750889           0.694080  0.729707"
      ]
     },
     "execution_count": 31,
     "metadata": {},
     "output_type": "execute_result"
    }
   ],
   "source": [
    "results"
   ]
  },
  {
   "cell_type": "markdown",
   "metadata": {},
   "source": [
    "Para SVM e para KNN conseguimos um desempenho melhor que seleção dos experts!"
   ]
  },
  {
   "cell_type": "code",
   "execution_count": 32,
   "metadata": {},
   "outputs": [],
   "source": [
    "from sklearn.feature_selection import mutual_info_classif\n",
    "mutual_info = SelectKBest(mutual_info_classif, k=14)\n",
    "mutual_info.fit(X.values[:260], y[:260])\n",
    "X_mutual = pd.DataFrame(mutual_info.transform(X))"
   ]
  },
  {
   "cell_type": "code",
   "execution_count": 33,
   "metadata": {},
   "outputs": [
    {
     "name": "stdout",
     "output_type": "stream",
     "text": [
      "SVM conseguiu acurácia de 0.8098887064404305 e desvio padrão de 0.07513074880560357\n",
      "KNN conseguiu acurácia de 0.7604771027184821 e desvio padrão de 0.07070499248775082\n",
      "Naive Bayes conseguiu acurácia de 0.8288998357963875 e desvio padrão de 0.06058084502707845\n",
      "Decision Tree conseguiu acurácia de 0.7474776500638569 e desvio padrão de 0.10144581379633312\n"
     ]
    }
   ],
   "source": [
    "test_classifiers(X_mutual, y, classifiers, 'mutual_info')"
   ]
  },
  {
   "cell_type": "code",
   "execution_count": 34,
   "metadata": {},
   "outputs": [
    {
     "data": {
      "text/html": [
       "<div>\n",
       "<style scoped>\n",
       "    .dataframe tbody tr th:only-of-type {\n",
       "        vertical-align: middle;\n",
       "    }\n",
       "\n",
       "    .dataframe tbody tr th {\n",
       "        vertical-align: top;\n",
       "    }\n",
       "\n",
       "    .dataframe thead th {\n",
       "        text-align: right;\n",
       "    }\n",
       "</style>\n",
       "<table border=\"1\" class=\"dataframe\">\n",
       "  <thead>\n",
       "    <tr style=\"text-align: right;\">\n",
       "      <th></th>\n",
       "      <th>all_variables</th>\n",
       "      <th>normally_used</th>\n",
       "      <th>non_zero_variance</th>\n",
       "      <th>k_best</th>\n",
       "      <th>mutual_info</th>\n",
       "    </tr>\n",
       "  </thead>\n",
       "  <tbody>\n",
       "    <tr>\n",
       "      <th>SVM</th>\n",
       "      <td>0.796474</td>\n",
       "      <td>0.817684</td>\n",
       "      <td>0.789331</td>\n",
       "      <td>0.825082</td>\n",
       "      <td>0.809889</td>\n",
       "    </tr>\n",
       "    <tr>\n",
       "      <th>KNN</th>\n",
       "      <td>0.743737</td>\n",
       "      <td>0.814350</td>\n",
       "      <td>0.743737</td>\n",
       "      <td>0.814482</td>\n",
       "      <td>0.760477</td>\n",
       "    </tr>\n",
       "    <tr>\n",
       "      <th>Naive Bayes</th>\n",
       "      <td>0.701241</td>\n",
       "      <td>0.825205</td>\n",
       "      <td>0.701241</td>\n",
       "      <td>0.807832</td>\n",
       "      <td>0.828900</td>\n",
       "    </tr>\n",
       "    <tr>\n",
       "      <th>Decision Tree</th>\n",
       "      <td>0.704926</td>\n",
       "      <td>0.750889</td>\n",
       "      <td>0.694080</td>\n",
       "      <td>0.729707</td>\n",
       "      <td>0.747478</td>\n",
       "    </tr>\n",
       "  </tbody>\n",
       "</table>\n",
       "</div>"
      ],
      "text/plain": [
       "               all_variables  normally_used  non_zero_variance    k_best  \\\n",
       "SVM                 0.796474       0.817684           0.789331  0.825082   \n",
       "KNN                 0.743737       0.814350           0.743737  0.814482   \n",
       "Naive Bayes         0.701241       0.825205           0.701241  0.807832   \n",
       "Decision Tree       0.704926       0.750889           0.694080  0.729707   \n",
       "\n",
       "               mutual_info  \n",
       "SVM               0.809889  \n",
       "KNN               0.760477  \n",
       "Naive Bayes       0.828900  \n",
       "Decision Tree     0.747478  "
      ]
     },
     "execution_count": 34,
     "metadata": {},
     "output_type": "execute_result"
    }
   ],
   "source": [
    "results"
   ]
  },
  {
   "cell_type": "markdown",
   "metadata": {},
   "source": [
    "Usando teste de informação mútua conseguimos um desempenho melhor no Naive Bayes, porém uma queda de desempenho nos demais classificadores"
   ]
  },
  {
   "cell_type": "code",
   "execution_count": 35,
   "metadata": {},
   "outputs": [
    {
     "data": {
      "text/plain": [
       "Int64Index([7, 9, 10, 14, 22, 28, 30, 35, 36, 38, 39, 42, 49, 55], dtype='int64')"
      ]
     },
     "execution_count": 35,
     "metadata": {},
     "output_type": "execute_result"
    }
   ],
   "source": [
    "X.columns[mutual_info.get_support()]"
   ]
  },
  {
   "cell_type": "markdown",
   "metadata": {},
   "source": [
    "### Recursive Feature Selection"
   ]
  },
  {
   "cell_type": "code",
   "execution_count": 36,
   "metadata": {},
   "outputs": [
    {
     "data": {
      "text/plain": [
       "RFE(estimator=DecisionTreeClassifier(class_weight=None, criterion='gini', max_depth=None,\n",
       "            max_features=None, max_leaf_nodes=None,\n",
       "            min_impurity_decrease=0.0, min_impurity_split=None,\n",
       "            min_samples_leaf=1, min_samples_split=2,\n",
       "            min_weight_fraction_leaf=0.0, presort=False, random_state=0,\n",
       "            splitter='best'),\n",
       "  n_features_to_select=14, step=1, verbose=0)"
      ]
     },
     "execution_count": 36,
     "metadata": {},
     "output_type": "execute_result"
    }
   ],
   "source": [
    "from sklearn.feature_selection import RFE\n",
    "from sklearn.model_selection import StratifiedKFold\n",
    "\n",
    "rfe = RFE(estimator=classifiers['Decision Tree'], n_features_to_select=14)\n",
    "rfe.fit(X.values[:280], y[:280])"
   ]
  },
  {
   "cell_type": "code",
   "execution_count": 37,
   "metadata": {},
   "outputs": [],
   "source": [
    "X_recursive = X[X.columns[rfe.support_]]"
   ]
  },
  {
   "cell_type": "code",
   "execution_count": 38,
   "metadata": {},
   "outputs": [
    {
     "name": "stdout",
     "output_type": "stream",
     "text": [
      "SVM conseguiu acurácia de 0.7920224411603722 e desvio padrão de 0.08874376764542305\n",
      "KNN conseguiu acurácia de 0.7775862068965518 e desvio padrão de 0.09309451536315622\n",
      "Naive Bayes conseguiu acurácia de 0.7611111111111112 e desvio padrão de 0.06894671536787135\n",
      "Decision Tree conseguiu acurácia de 0.7329000182448459 e desvio padrão de 0.0819897430235052\n"
     ]
    }
   ],
   "source": [
    "test_classifiers(X_recursive, y, classifiers, 'recursive')"
   ]
  },
  {
   "cell_type": "code",
   "execution_count": 39,
   "metadata": {},
   "outputs": [
    {
     "data": {
      "text/html": [
       "<div>\n",
       "<style scoped>\n",
       "    .dataframe tbody tr th:only-of-type {\n",
       "        vertical-align: middle;\n",
       "    }\n",
       "\n",
       "    .dataframe tbody tr th {\n",
       "        vertical-align: top;\n",
       "    }\n",
       "\n",
       "    .dataframe thead th {\n",
       "        text-align: right;\n",
       "    }\n",
       "</style>\n",
       "<table border=\"1\" class=\"dataframe\">\n",
       "  <thead>\n",
       "    <tr style=\"text-align: right;\">\n",
       "      <th></th>\n",
       "      <th>all_variables</th>\n",
       "      <th>normally_used</th>\n",
       "      <th>non_zero_variance</th>\n",
       "      <th>k_best</th>\n",
       "      <th>mutual_info</th>\n",
       "      <th>recursive</th>\n",
       "    </tr>\n",
       "  </thead>\n",
       "  <tbody>\n",
       "    <tr>\n",
       "      <th>SVM</th>\n",
       "      <td>0.796474</td>\n",
       "      <td>0.817684</td>\n",
       "      <td>0.789331</td>\n",
       "      <td>0.825082</td>\n",
       "      <td>0.809889</td>\n",
       "      <td>0.792022</td>\n",
       "    </tr>\n",
       "    <tr>\n",
       "      <th>KNN</th>\n",
       "      <td>0.743737</td>\n",
       "      <td>0.814350</td>\n",
       "      <td>0.743737</td>\n",
       "      <td>0.814482</td>\n",
       "      <td>0.760477</td>\n",
       "      <td>0.777586</td>\n",
       "    </tr>\n",
       "    <tr>\n",
       "      <th>Naive Bayes</th>\n",
       "      <td>0.701241</td>\n",
       "      <td>0.825205</td>\n",
       "      <td>0.701241</td>\n",
       "      <td>0.807832</td>\n",
       "      <td>0.828900</td>\n",
       "      <td>0.761111</td>\n",
       "    </tr>\n",
       "    <tr>\n",
       "      <th>Decision Tree</th>\n",
       "      <td>0.704926</td>\n",
       "      <td>0.750889</td>\n",
       "      <td>0.694080</td>\n",
       "      <td>0.729707</td>\n",
       "      <td>0.747478</td>\n",
       "      <td>0.732900</td>\n",
       "    </tr>\n",
       "  </tbody>\n",
       "</table>\n",
       "</div>"
      ],
      "text/plain": [
       "               all_variables  normally_used  non_zero_variance    k_best  \\\n",
       "SVM                 0.796474       0.817684           0.789331  0.825082   \n",
       "KNN                 0.743737       0.814350           0.743737  0.814482   \n",
       "Naive Bayes         0.701241       0.825205           0.701241  0.807832   \n",
       "Decision Tree       0.704926       0.750889           0.694080  0.729707   \n",
       "\n",
       "               mutual_info  recursive  \n",
       "SVM               0.809889   0.792022  \n",
       "KNN               0.760477   0.777586  \n",
       "Naive Bayes       0.828900   0.761111  \n",
       "Decision Tree     0.747478   0.732900  "
      ]
     },
     "execution_count": 39,
     "metadata": {},
     "output_type": "execute_result"
    }
   ],
   "source": [
    "results"
   ]
  },
  {
   "cell_type": "markdown",
   "metadata": {},
   "source": [
    "### Model Feature Selection"
   ]
  },
  {
   "cell_type": "code",
   "execution_count": 40,
   "metadata": {},
   "outputs": [],
   "source": [
    "from sklearn.ensemble import ExtraTreesClassifier\n",
    "from sklearn.feature_selection import SelectFromModel\n",
    "\n",
    "clf = ExtraTreesClassifier(n_estimators=64)\n",
    "clf.fit(X.values[:260], y[:260])\n",
    "model_selector = SelectFromModel(clf, prefit=True)\n",
    "X_model = model_selector.transform(X)"
   ]
  },
  {
   "cell_type": "code",
   "execution_count": 41,
   "metadata": {},
   "outputs": [
    {
     "data": {
      "text/plain": [
       "(282, 11)"
      ]
     },
     "execution_count": 41,
     "metadata": {},
     "output_type": "execute_result"
    }
   ],
   "source": [
    "X_model.shape"
   ]
  },
  {
   "cell_type": "code",
   "execution_count": 42,
   "metadata": {},
   "outputs": [
    {
     "name": "stdout",
     "output_type": "stream",
     "text": [
      "SVM conseguiu acurácia de 0.8353037766830871 e desvio padrão de 0.05974042349318847\n",
      "KNN conseguiu acurácia de 0.8183087027914615 e desvio padrão de 0.04368823576712456\n",
      "Naive Bayes conseguiu acurácia de 0.8292875387702974 e desvio padrão de 0.06005555072357244\n",
      "Decision Tree conseguiu acurácia de 0.757530560116767 e desvio padrão de 0.09766178656696828\n"
     ]
    }
   ],
   "source": [
    "test_classifiers(X_model, y, classifiers, \"model_selected\")"
   ]
  },
  {
   "cell_type": "code",
   "execution_count": 43,
   "metadata": {},
   "outputs": [
    {
     "data": {
      "text/html": [
       "<div>\n",
       "<style scoped>\n",
       "    .dataframe tbody tr th:only-of-type {\n",
       "        vertical-align: middle;\n",
       "    }\n",
       "\n",
       "    .dataframe tbody tr th {\n",
       "        vertical-align: top;\n",
       "    }\n",
       "\n",
       "    .dataframe thead th {\n",
       "        text-align: right;\n",
       "    }\n",
       "</style>\n",
       "<table border=\"1\" class=\"dataframe\">\n",
       "  <thead>\n",
       "    <tr style=\"text-align: right;\">\n",
       "      <th></th>\n",
       "      <th>all_variables</th>\n",
       "      <th>normally_used</th>\n",
       "      <th>non_zero_variance</th>\n",
       "      <th>k_best</th>\n",
       "      <th>mutual_info</th>\n",
       "      <th>recursive</th>\n",
       "      <th>model_selected</th>\n",
       "    </tr>\n",
       "  </thead>\n",
       "  <tbody>\n",
       "    <tr>\n",
       "      <th>SVM</th>\n",
       "      <td>0.796474</td>\n",
       "      <td>0.817684</td>\n",
       "      <td>0.789331</td>\n",
       "      <td>0.825082</td>\n",
       "      <td>0.809889</td>\n",
       "      <td>0.792022</td>\n",
       "      <td>0.835304</td>\n",
       "    </tr>\n",
       "    <tr>\n",
       "      <th>KNN</th>\n",
       "      <td>0.743737</td>\n",
       "      <td>0.814350</td>\n",
       "      <td>0.743737</td>\n",
       "      <td>0.814482</td>\n",
       "      <td>0.760477</td>\n",
       "      <td>0.777586</td>\n",
       "      <td>0.818309</td>\n",
       "    </tr>\n",
       "    <tr>\n",
       "      <th>Naive Bayes</th>\n",
       "      <td>0.701241</td>\n",
       "      <td>0.825205</td>\n",
       "      <td>0.701241</td>\n",
       "      <td>0.807832</td>\n",
       "      <td>0.828900</td>\n",
       "      <td>0.761111</td>\n",
       "      <td>0.829288</td>\n",
       "    </tr>\n",
       "    <tr>\n",
       "      <th>Decision Tree</th>\n",
       "      <td>0.704926</td>\n",
       "      <td>0.750889</td>\n",
       "      <td>0.694080</td>\n",
       "      <td>0.729707</td>\n",
       "      <td>0.747478</td>\n",
       "      <td>0.732900</td>\n",
       "      <td>0.757531</td>\n",
       "    </tr>\n",
       "  </tbody>\n",
       "</table>\n",
       "</div>"
      ],
      "text/plain": [
       "               all_variables  normally_used  non_zero_variance    k_best  \\\n",
       "SVM                 0.796474       0.817684           0.789331  0.825082   \n",
       "KNN                 0.743737       0.814350           0.743737  0.814482   \n",
       "Naive Bayes         0.701241       0.825205           0.701241  0.807832   \n",
       "Decision Tree       0.704926       0.750889           0.694080  0.729707   \n",
       "\n",
       "               mutual_info  recursive  model_selected  \n",
       "SVM               0.809889   0.792022        0.835304  \n",
       "KNN               0.760477   0.777586        0.818309  \n",
       "Naive Bayes       0.828900   0.761111        0.829288  \n",
       "Decision Tree     0.747478   0.732900        0.757531  "
      ]
     },
     "execution_count": 43,
     "metadata": {},
     "output_type": "execute_result"
    }
   ],
   "source": [
    "results"
   ]
  },
  {
   "cell_type": "markdown",
   "metadata": {},
   "source": [
    "Conseguimos o melhor resultado até agora, com todos os classificadores demonstrando melhor desempenho que a quando usamos as features escolhidas pelos, e usando uma quantidade um pouco menor de features além disso"
   ]
  },
  {
   "cell_type": "code",
   "execution_count": 44,
   "metadata": {},
   "outputs": [
    {
     "data": {
      "text/plain": [
       "Int64Index([1, 2, 7, 28, 29, 30, 36, 38, 39, 42, 49], dtype='int64')"
      ]
     },
     "execution_count": 44,
     "metadata": {},
     "output_type": "execute_result"
    }
   ],
   "source": [
    "X.columns[model_selector.get_support()]"
   ]
  },
  {
   "cell_type": "code",
   "execution_count": 46,
   "metadata": {},
   "outputs": [
    {
     "data": {
      "text/plain": [
       "['1', '2', '7', '8', '10', '14', '17', '30', '36', '38', '39', '42', '49']"
      ]
     },
     "execution_count": 46,
     "metadata": {},
     "output_type": "execute_result"
    }
   ],
   "source": [
    "normaly_used"
   ]
  }
 ],
 "metadata": {
  "kernelspec": {
   "display_name": "Python 3",
   "language": "python",
   "name": "python3"
  },
  "language_info": {
   "codemirror_mode": {
    "name": "ipython",
    "version": 3
   },
   "file_extension": ".py",
   "mimetype": "text/x-python",
   "name": "python",
   "nbconvert_exporter": "python",
   "pygments_lexer": "ipython3",
   "version": "3.7.1"
  }
 },
 "nbformat": 4,
 "nbformat_minor": 2
}
